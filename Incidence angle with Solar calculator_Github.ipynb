{
 "cells": [
  {
   "cell_type": "code",
   "execution_count": 1,
   "metadata": {},
   "outputs": [],
   "source": [
    "import numpy as np\n",
    "import datetime\n",
    "import matplotlib.pyplot as plt\n",
    "import pandas as pd\n",
    "import seaborn as sns"
   ]
  },
  {
   "cell_type": "code",
   "execution_count": 2,
   "metadata": {},
   "outputs": [],
   "source": [
    "def solsub(D,IHR,MM,LAT,LONG,AZ,IN,SC): \n",
    "\n",
    "##  following C.D. WHITEMAN and K.J. ALLWINE, Pacific Northwest Laboratory, Richland, WA 99352: \n",
    "##  Whiteman, C. D. and K. J. Allwine (1986). \"Extraterrestrial solar radiation on inclined surfaces.\" Environmental Software 1(3): 164-169.\n",
    "\n",
    "#-------------------------------------------------------\n",
    "##  INPUTS: LONG =(-180 to 180 DEG), LAT=(-90 to 90 DEG),\n",
    "#   AZ = slope azimuth angle (0 to 359), IN = slope in-\n",
    "#   clination angle (0 to 90 DEG), SC = solar constant,\n",
    "#   IHR = hour (0 to 23), MM = minute(00 to 59),\n",
    "#   D = Julian Day\n",
    "#-------------------------------------------------------\n",
    "##  OUTPUTS:\n",
    "#   OUT1 = Instantaneous radiation [W/m²]\n",
    "#   OUT2 = Radiation on the slope [W/m²]\n",
    "#   OUT3 = Sun's zenith angle [DEG]\n",
    "#   OUT4 = Sun's azimuth angle [DEG]\n",
    "#-------------------------------------------------------\n",
    "\n",
    "#-- define constants\n",
    "    ACOF = np.array([0.00839, -0.05391, -0.00154, -0.00222])\n",
    "    BCOF = np.array([-0.12193, -0.15699, -0.00567, -0.00370])\n",
    "    NDAY = np.array([0, 31, 59, 90, 120, 151, 181, 212, 243, 273, 304, 334])\n",
    "    DZERO = 80\n",
    "    ECCENT = 0.0167\n",
    "    PI = np.pi\n",
    "    # CALINT = 1.7\n",
    "\n",
    "    RTOD = PI/180              # Radians to degrees\n",
    "    DECMAX = (23 + 26/60)*RTOD # Declination\n",
    "    OMEGA = (2*PI)/365\n",
    "    ONEHR = 15*RTOD\n",
    "\n",
    "#-- calculate Julian date -- no longer needed because D is a direct input\n",
    "    #D = IDA + NDAY[MO-1]\n",
    "\n",
    "#-- ratio of radius vectors squared\n",
    "    OMD = OMEGA*D\n",
    "    OMDZERO = OMEGA*DZERO\n",
    "    RDVECSQ = 1/(1-ECCENT*np.cos(OMD))**2\n",
    "\n",
    "#-- calculate declination of sun\n",
    "    LONGSUN = OMEGA*(D-DZERO)+2*ECCENT*(np.sin(OMD)-np.sin(OMDZERO))\n",
    "    DECLIN = np.arcsin(np.sin(DECMAX)*np.sin(LONGSUN))\n",
    "    \n",
    "    SDEC = np.sin(DECLIN)\n",
    "    CDEC = np.cos(DECLIN)\n",
    "\n",
    "#-- check for polar night/day\n",
    "    ARG = ((PI/2)-abs(DECLIN))/RTOD\n",
    "\n",
    "#-- keyboard\n",
    "    if abs(LAT) > ARG:\n",
    "        if ((LAT > 0) & (DECLIN < 0)) | ((LAT < 0) & (DECLIN > 0)):\n",
    "            OUT1 = 0\n",
    "            OUT2 = 0\n",
    "            OUT3 = 0\n",
    "            OUT4 = 0\n",
    "            \n",
    "    else: \n",
    "    #-- standard time meridian for site\n",
    "        STDMRDN = round(LONG/15)*15\n",
    "        STDMRDN = 0                   # UTC \n",
    "        LONGCOR = (LONG - STDMRDN)/15\n",
    "\n",
    "    #-- compute time correction from equation of time\n",
    "        B = 2*PI*(D-0.4)/365\n",
    "        EM = 0\n",
    "\n",
    "        for i in range(4):\n",
    "            EM = EM + (BCOF[i]*np.sin((i+1)*B)+ACOF[i]*np.cos((i+1)*B))\n",
    "\n",
    "    #-- time of solar noon\n",
    "        TIMNOON = 12 -EM -LONGCOR\n",
    "        AZSLO = AZ*RTOD\n",
    "        INSLO = IN*RTOD\n",
    "\n",
    "        SLAT = np.sin(LAT*RTOD)\n",
    "        CLAT = np.cos(LAT*RTOD)\n",
    "        CAZ  = np.cos(AZSLO)\n",
    "        SAZ  = np.sin(AZSLO)\n",
    "        SINC = np.sin(INSLO)\n",
    "        CINC = np.cos(INSLO)\n",
    "\n",
    "        T1 = IHR + MM/60\n",
    "        H = ONEHR*(T1-TIMNOON)\n",
    "        COSZ = SLAT*SDEC + CLAT*CDEC*np.cos(H)\n",
    "  \n",
    "        COSBETA = CDEC*((SLAT*np.cos(H))*(-CAZ*SINC)-np.sin(H)*(SAZ*SINC)+(CLAT*np.cos(H))*CINC) + SDEC*(CLAT*(CAZ*SINC)+SLAT*CINC)\n",
    "    \n",
    "        EXTRA = SC*RDVECSQ*COSZ\n",
    "        EXTSLO = SC*RDVECSQ*COSBETA\n",
    "        if EXTRA < 0: \n",
    "            EXTRA = 0\n",
    "    \n",
    "        if EXTRA <= 0 or EXTSLO < 0:\n",
    "            EXTSLO = 0\n",
    "    \n",
    "        OUT2 = EXTSLO\n",
    "    \n",
    "        Z = np.arccos(COSZ)\n",
    "        COSA = (SLAT*COSZ-SDEC)/(CLAT*np.sin(Z))\n",
    "\n",
    "        if COSA < -1:\n",
    "            COSA = -1\n",
    "        elif COSA > 1:\n",
    "            COSA = 1\n",
    "    \n",
    "    \n",
    "        A = abs(np.arccos(COSA))\n",
    "\n",
    "        if H < 0:\n",
    "            A = -A\n",
    "    \n",
    "    \n",
    "        OUT1 = EXTRA\n",
    "        OUT3 = Z/RTOD\n",
    "        OUT4 = A/RTOD + 180\n",
    "        \n",
    "        \n",
    "        ## angle calculation: \n",
    "        # spherical to cartesian coordinats\n",
    "        CART_SURF = [np.sin(AZ*PI/180)*np.cos(90-IN*PI/180),     np.sin(90-AZ*PI/180)*np.sin(IN*PI/180),     np.cos(IN*PI/180)]\n",
    "        CART_SUN =  [np.sin(OUT3*PI/180)*np.cos(90-OUT4*PI/180), np.sin(OUT3*PI/180)*np.sin(90-OUT4*PI/180), np.cos(OUT3*PI/180)]\n",
    "\n",
    "        # dot product of sun and surface vectors in cartesian coordinates\n",
    "        DOT = CART_SUN[0]*CART_SURF[0]+CART_SUN[1]*CART_SURF[1]+CART_SUN[2]*CART_SURF[2]\n",
    "\n",
    "        # theta = arccos(dot) i.e., CART_SURF . CART_SUN\n",
    "        THETA_INCIDENT = 90-180*np.arccos(CART_SUN[0]*CART_SURF[0]+CART_SUN[1]*CART_SURF[1]+CART_SUN[2]*CART_SURF[2])/PI\n",
    "            \n",
    "        \n",
    "    return OUT1,OUT2,OUT3,OUT4,THETA_INCIDENT"
   ]
  },
  {
   "cell_type": "code",
   "execution_count": 3,
   "metadata": {},
   "outputs": [],
   "source": [
    "def returnFullModel(AZ,IN,LONG,LAT,START,END,TIMESTEP,SC): #START and END format should be: (YYYY,M,D), TTIMESTEP: (mins)\n",
    "    \n",
    "    # short function to convert from month/day to julian date\n",
    "    def julian(MO,IDA):\n",
    "        NDAY = np.array([0, 31, 59, 90, 120, 151, 181, 212, 243, 273, 304, 334])\n",
    "\n",
    "        return IDA + NDAY[MO-1]\n",
    "    \n",
    "    YEAR = START[0]\n",
    "    D0 = julian(START[1],START[2])\n",
    "    D1 = julian(END[1],END[2])\n",
    "    \n",
    "    Di = np.arange(D0,D1+1)\n",
    "    \n",
    "    SC   = 1361\n",
    "    \n",
    "    MMi   = np.arange(0,59,TIMESTEP)\n",
    "    \n",
    "    # create the datetime index\n",
    "    k = 0\n",
    "    \n",
    "    OUTMATRIX = np.zeros((len(Di)*24*len(MMi),5))\n",
    "    OUTINDEX = []\n",
    "\n",
    "    for D in Di:\n",
    "        for H in range(24):\n",
    "            for MM in MMi:\n",
    "                \n",
    "                # first create a formatted string index later used for the dataframe\n",
    "                s = '{}{}'.format(str(YEAR)[-2:],D)\n",
    "                OUTINDEX.append(datetime.datetime.strptime(s+' {:02d}:{:02d}'.format(H,MM), '%y%j %H:%M').strftime(\"%Y-%m-%d %H:%M:%S\"))\n",
    "                \n",
    "                # call the previously defined solsub function\n",
    "                OUT = np.array(solsub(D,H,MM,LAT,LONG,AZ,IN,SC))\n",
    "                OUTMATRIX[k] = OUT\n",
    "                k+=1\n",
    "    \n",
    "    # create the dataframe:\n",
    "    # first define empty dictionary\n",
    "    PDOUT = {}\n",
    "    # define the dataframe column labels\n",
    "    LABELS = [\"Instantaneous radiation [W/m²]\",\n",
    "              \"Radiation on the slope [W/m²]\",\n",
    "              \"Sun's zenith angle [DEG]\",\n",
    "              \"Sun's azimuth angle [DEG]\",\n",
    "              \"Angle between Sun and surface [DEG]\"]\n",
    "    \n",
    "    for i,col in enumerate(LABELS):\n",
    "        \n",
    "        # populate the empty dictionary with key.value pairs\n",
    "        PDOUT = {**PDOUT, col:OUTMATRIX[:,i]}\n",
    "        \n",
    "    # create the dataframe from the dictionary    \n",
    "    d = pd.DataFrame(PDOUT, index = OUTINDEX)\n",
    "    \n",
    "    # convert the index to datetime index\n",
    "    d.index = pd.to_datetime(d.index)\n",
    "    \n",
    "    return d         "
   ]
  },
  {
   "cell_type": "code",
   "execution_count": 4,
   "metadata": {},
   "outputs": [],
   "source": [
    "### Enter coordinates of interest here: \n",
    "\n",
    "LONG = 11.385154\n",
    "LAT  = 47.264260\n",
    "SC   = 1361        # solar constant "
   ]
  },
  {
   "cell_type": "code",
   "execution_count": 5,
   "metadata": {},
   "outputs": [
    {
     "name": "stderr",
     "output_type": "stream",
     "text": [
      "C:\\ProgramData\\Anaconda3\\lib\\site-packages\\ipykernel_launcher.py:130: RuntimeWarning: invalid value encountered in arccos\n"
     ]
    }
   ],
   "source": [
    "### Enter Azimuth and inclination here: \n",
    "\n",
    "North = returnFullModel(309,90,LONG,LAT,(2019,6,6),(2019,10,25),5,SC)\n",
    "East  = returnFullModel(39, 90,LONG,LAT,(2019,6,6),(2019,10,25),5,SC)\n",
    "South = returnFullModel(129,90,LONG,LAT,(2019,6,6),(2019,10,25),5,SC)\n",
    "West  = returnFullModel(219,90,LONG,LAT,(2019,6,6),(2019,10,25),5,SC)\n",
    "Top   = returnFullModel(1,  0, LONG,LAT,(2019,6,6),(2019,10,25),5,SC)"
   ]
  },
  {
   "cell_type": "code",
   "execution_count": 6,
   "metadata": {},
   "outputs": [],
   "source": [
    "North[\"orientation\"]= \"North\"\n",
    "East[\"orientation\"] = \"East\"\n",
    "South[\"orientation\"]= \"South\"\n",
    "West[\"orientation\"] = \"West\"\n",
    "Top[\"orientation\"]  = \"Top\""
   ]
  },
  {
   "cell_type": "code",
   "execution_count": 7,
   "metadata": {},
   "outputs": [],
   "source": [
    "alldf = pd.concat([North, East, South, West, Top])"
   ]
  },
  {
   "cell_type": "code",
   "execution_count": 8,
   "metadata": {},
   "outputs": [],
   "source": [
    "nozeros = alldf.loc[(alldf[\"Radiation on the slope [W/m²]\"] > 0) & (alldf[\"Angle between Sun and surface [DEG]\"] > 0)]"
   ]
  },
  {
   "cell_type": "code",
   "execution_count": 9,
   "metadata": {},
   "outputs": [],
   "source": [
    "N_nozeros = nozeros.loc[(nozeros[\"orientation\"] == \"North\")]\n",
    "E_nozeros = nozeros.loc[(nozeros[\"orientation\"] == \"East\")]\n",
    "S_nozeros = nozeros.loc[(nozeros[\"orientation\"] == \"South\")]\n",
    "W_nozeros = nozeros.loc[(nozeros[\"orientation\"] == \"West\")]\n",
    "T_nozeros = nozeros.loc[(nozeros[\"orientation\"] == \"Top\")]"
   ]
  },
  {
   "cell_type": "code",
   "execution_count": 10,
   "metadata": {},
   "outputs": [
    {
     "name": "stdout",
     "output_type": "stream",
     "text": [
      "Median NW (309°) =  22.40 °,  std = 13.27\n",
      "Median NE (39°) =  41.12 °,  std = 18.60\n",
      "Median SE (129°) =  25.14 °,  std = 10.15\n",
      "Median SW (219°) =  43.49 °,  std = 19.86\n",
      "Median Horizontal =  31.76 °,  std = 18.33\n"
     ]
    }
   ],
   "source": [
    "print(\"Median NW (309°) = \",   '{:.2f}'.format(N_nozeros[\"Angle between Sun and surface [DEG]\"].median()),\"°, \", \"std =\", '{:.2f}'.format(N_nozeros[\"Angle between Sun and surface [DEG]\"].std()))\n",
    "print(\"Median NE (39°) = \",   '{:.2f}'.format(E_nozeros[\"Angle between Sun and surface [DEG]\"].median()),\"°, \", \"std =\", '{:.2f}'.format(E_nozeros[\"Angle between Sun and surface [DEG]\"].std()))\n",
    "print(\"Median SE (129°) = \",   '{:.2f}'.format(S_nozeros[\"Angle between Sun and surface [DEG]\"].median()),\"°, \", \"std =\", '{:.2f}'.format(S_nozeros[\"Angle between Sun and surface [DEG]\"].std()))\n",
    "print(\"Median SW (219°) = \",   '{:.2f}'.format(W_nozeros[\"Angle between Sun and surface [DEG]\"].median()),\"°, \", \"std =\", '{:.2f}'.format(W_nozeros[\"Angle between Sun and surface [DEG]\"].std()))\n",
    "print(\"Median Horizontal = \",   '{:.2f}'.format(T_nozeros[\"Angle between Sun and surface [DEG]\"].median()),\"°, \", \"std =\", '{:.2f}'.format(T_nozeros[\"Angle between Sun and surface [DEG]\"].std()))"
   ]
  },
  {
   "cell_type": "code",
   "execution_count": 11,
   "metadata": {},
   "outputs": [],
   "source": [
    "medians = nozeros.groupby([\"orientation\"])[\"Angle between Sun and surface [DEG]\"].median()\n",
    "medians = medians.round(1)\n",
    "medians = medians.reindex(index=[\"East\",\"North\", \"South\",\"West\",\"Top\"]) # to match with order in violinplots "
   ]
  },
  {
   "cell_type": "markdown",
   "metadata": {},
   "source": [
    "### changing \"North, East, ...\" to \"NW (309°), ...\" "
   ]
  },
  {
   "cell_type": "code",
   "execution_count": 13,
   "metadata": {},
   "outputs": [
    {
     "name": "stderr",
     "output_type": "stream",
     "text": [
      "C:\\ProgramData\\Anaconda3\\lib\\site-packages\\ipykernel_launcher.py:1: SettingWithCopyWarning: \n",
      "A value is trying to be set on a copy of a slice from a DataFrame.\n",
      "Try using .loc[row_indexer,col_indexer] = value instead\n",
      "\n",
      "See the caveats in the documentation: http://pandas.pydata.org/pandas-docs/stable/user_guide/indexing.html#returning-a-view-versus-a-copy\n",
      "  \"\"\"Entry point for launching an IPython kernel.\n",
      "C:\\ProgramData\\Anaconda3\\lib\\site-packages\\ipykernel_launcher.py:2: SettingWithCopyWarning: \n",
      "A value is trying to be set on a copy of a slice from a DataFrame.\n",
      "Try using .loc[row_indexer,col_indexer] = value instead\n",
      "\n",
      "See the caveats in the documentation: http://pandas.pydata.org/pandas-docs/stable/user_guide/indexing.html#returning-a-view-versus-a-copy\n",
      "  \n",
      "C:\\ProgramData\\Anaconda3\\lib\\site-packages\\ipykernel_launcher.py:3: SettingWithCopyWarning: \n",
      "A value is trying to be set on a copy of a slice from a DataFrame.\n",
      "Try using .loc[row_indexer,col_indexer] = value instead\n",
      "\n",
      "See the caveats in the documentation: http://pandas.pydata.org/pandas-docs/stable/user_guide/indexing.html#returning-a-view-versus-a-copy\n",
      "  This is separate from the ipykernel package so we can avoid doing imports until\n",
      "C:\\ProgramData\\Anaconda3\\lib\\site-packages\\ipykernel_launcher.py:4: SettingWithCopyWarning: \n",
      "A value is trying to be set on a copy of a slice from a DataFrame.\n",
      "Try using .loc[row_indexer,col_indexer] = value instead\n",
      "\n",
      "See the caveats in the documentation: http://pandas.pydata.org/pandas-docs/stable/user_guide/indexing.html#returning-a-view-versus-a-copy\n",
      "  after removing the cwd from sys.path.\n",
      "C:\\ProgramData\\Anaconda3\\lib\\site-packages\\ipykernel_launcher.py:5: SettingWithCopyWarning: \n",
      "A value is trying to be set on a copy of a slice from a DataFrame.\n",
      "Try using .loc[row_indexer,col_indexer] = value instead\n",
      "\n",
      "See the caveats in the documentation: http://pandas.pydata.org/pandas-docs/stable/user_guide/indexing.html#returning-a-view-versus-a-copy\n",
      "  \"\"\"\n"
     ]
    }
   ],
   "source": [
    "nozeros[\"orientation\"] = nozeros[\"orientation\"].replace(['North'],'NW (309°)')\n",
    "nozeros[\"orientation\"] = nozeros[\"orientation\"].replace(['East'],'NE (39°)')\n",
    "nozeros[\"orientation\"] = nozeros[\"orientation\"].replace(['South'],'SE (129°)')\n",
    "nozeros[\"orientation\"] = nozeros[\"orientation\"].replace(['West'],'SW (219°)')\n",
    "nozeros[\"orientation\"] = nozeros[\"orientation\"].replace(['Top'],'Horizontal')"
   ]
  },
  {
   "cell_type": "code",
   "execution_count": 15,
   "metadata": {},
   "outputs": [
    {
     "data": {
      "image/png": "[encoded data removed]",
      "text/plain": [
       "<Figure size 936x288 with 1 Axes>"
      ]
     },
     "metadata": {
      "needs_background": "light"
     },
     "output_type": "display_data"
    }
   ],
   "source": [
    "# and here we go: \n",
    "\n",
    "fig, ax = plt.subplots(figsize=[13,4])\n",
    "\n",
    "\n",
    "violinplot = sns.violinplot(x=\"orientation\", y=\"Angle between Sun and surface [DEG]\", data=nozeros,\n",
    "               order=['NE (39°)','NW (309°)', \"SE (129°)\",\"SW (219°)\",\"Horizontal\"], width=1.2)\n",
    "\n",
    "vertical_offset = nozeros[\"Angle between Sun and surface [DEG]\"].median() * 0.1 # offset from median for display\n",
    "ax.set(xlabel = \"\", ylabel='Incident Angle [°]')\n",
    "\n",
    "for xtick in violinplot.get_xticks():\n",
    "    violinplot.text(xtick,medians[xtick] + vertical_offset,medians[xtick], \n",
    "            horizontalalignment='center',color='w',weight='semibold')\n",
    "\n",
    "#plt.savefig('violin plot_5min.png', dpi=300, transparent = False, bbox_inches = 'tight', pad_inches = 0.2)\n",
    "plt.show()"
   ]
  }
 ],
 "metadata": {
  "kernelspec": {
   "display_name": "Python 3",
   "language": "python",
   "name": "python3"
  },
  "language_info": {
   "codemirror_mode": {
    "name": "ipython",
    "version": 3
   },
   "file_extension": ".py",
   "mimetype": "text/x-python",
   "name": "python",
   "nbconvert_exporter": "python",
   "pygments_lexer": "ipython3",
   "version": "3.7.4"
  }
 },
 "nbformat": 4,
 "nbformat_minor": 2
}
